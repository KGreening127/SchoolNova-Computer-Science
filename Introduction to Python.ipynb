{
 "cells": [
  {
   "cell_type": "code",
   "execution_count": null,
   "metadata": {},
   "outputs": [],
   "source": [
    "print(\"Hello IT 201!\")\n",
    "print(\"something else\")"
   ]
  },
  {
   "cell_type": "code",
   "execution_count": null,
   "metadata": {},
   "outputs": [],
   "source": [
    "a = 1\n",
    "b = 1.2\n",
    "print(a+b)\n",
    "print(type(a))\n",
    "print(type(b))"
   ]
  },
  {
   "cell_type": "code",
   "execution_count": null,
   "metadata": {},
   "outputs": [],
   "source": [
    "#help(int)"
   ]
  },
  {
   "cell_type": "code",
   "execution_count": null,
   "metadata": {},
   "outputs": [],
   "source": [
    "# test is b>1 and then do some stuff\n",
    "if b>1:\n",
    "    print(\"b is greater than 1\")\n",
    "    a = 2\n",
    "else:\n",
    "    print(\"b is less than or equal than 1\")\n",
    "    a = 3"
   ]
  },
  {
   "cell_type": "code",
   "execution_count": null,
   "metadata": {},
   "outputs": [],
   "source": [
    "a"
   ]
  },
  {
   "cell_type": "code",
   "execution_count": null,
   "metadata": {},
   "outputs": [],
   "source": [
    "sum = 0\n",
    "for item in range(100):\n",
    "    sum = sum + item + 1\n",
    "print(sum)"
   ]
  },
  {
   "cell_type": "code",
   "execution_count": null,
   "metadata": {},
   "outputs": [],
   "source": [
    "print(100*101/2)"
   ]
  },
  {
   "cell_type": "code",
   "execution_count": null,
   "metadata": {},
   "outputs": [],
   "source": [
    "i=0\n",
    "while i<10:\n",
    "    i = i +1\n",
    "    print(i)\n"
   ]
  },
  {
   "cell_type": "code",
   "execution_count": 33,
   "metadata": {},
   "outputs": [],
   "source": [
    "def fibonacci(n):\n",
    "    a = 0\n",
    "    b = 1\n",
    "    for i in range(n):\n",
    "        a,b = a+b,a\n",
    "        print(a)"
   ]
  },
  {
   "cell_type": "code",
   "execution_count": 38,
   "metadata": {},
   "outputs": [
    {
     "name": "stdout",
     "output_type": "stream",
     "text": [
      "1\n",
      "1\n",
      "2\n"
     ]
    }
   ],
   "source": [
    "fibonacci(3)"
   ]
  },
  {
   "cell_type": "code",
   "execution_count": 25,
   "metadata": {},
   "outputs": [],
   "source": [
    "def fib(n):\n",
    "    a = 1\n",
    "    b = 1\n",
    "    if n!=0:\n",
    "        print(1)\n",
    "    if n==0:\n",
    "        print(0)\n",
    "    for i in range(n-1):\n",
    "        a, b = a+b,a\n",
    "        print(b)"
   ]
  },
  {
   "cell_type": "code",
   "execution_count": 30,
   "metadata": {},
   "outputs": [
    {
     "name": "stdout",
     "output_type": "stream",
     "text": [
      "0\n"
     ]
    }
   ],
   "source": [
    "fib(0)"
   ]
  },
  {
   "cell_type": "code",
   "execution_count": 55,
   "metadata": {},
   "outputs": [
    {
     "name": "stdout",
     "output_type": "stream",
     "text": [
      "1 \n",
      "2 \n",
      "3 fuzz \n",
      "4 \n",
      "5 \n",
      "6 fuzz \n",
      "7 \n",
      "8 \n",
      "9 fuzz \n",
      "10 \n",
      "11 \n",
      "12 fuzz \n",
      "13 \n",
      "14 \n",
      "15 fuzz \n",
      "16 \n",
      "17 \n",
      "18 fuzz \n",
      "19 \n",
      "20 \n",
      "21 fuzz \n",
      "22 \n",
      "23 \n",
      "24 fuzz \n",
      "25 \n",
      "26 \n",
      "27 fuzz \n",
      "28 \n",
      "29 \n",
      "30 fuzz \n",
      "31 \n",
      "32 \n",
      "33 fuzz \n",
      "34 \n",
      "35 \n",
      "36 fuzz \n",
      "37 \n",
      "38 \n",
      "39 fuzz \n",
      "40 \n",
      "41 \n",
      "42 fuzz \n",
      "43 \n",
      "44 \n",
      "45 fuzz \n",
      "46 \n",
      "47 \n",
      "48 fuzz \n",
      "49 \n",
      "50 \n"
     ]
    }
   ],
   "source": [
    "for i in range(1,51):\n",
    "    print(i,end=' ')\n",
    "    if i % 3 == 0:\n",
    "        print(\"fuzz\",end=' ')\n",
    "    print()"
   ]
  },
  {
   "cell_type": "code",
   "execution_count": 54,
   "metadata": {},
   "outputs": [
    {
     "name": "stdout",
     "output_type": "stream",
     "text": [
      "a<-1\n"
     ]
    }
   ],
   "source": [
    "a = -2\n",
    "if a>1:\n",
    "    print(\"a>1\")\n",
    "elif a<-1:\n",
    "    print(\"a<-1\")\n",
    "else:\n",
    "    print(\"a = 1 or a = -1 or a=0\")"
   ]
  },
  {
   "cell_type": "code",
   "execution_count": 44,
   "metadata": {},
   "outputs": [
    {
     "data": {
      "text/plain": [
       "1"
      ]
     },
     "execution_count": 44,
     "metadata": {},
     "output_type": "execute_result"
    }
   ],
   "source": [
    "5 % 2"
   ]
  },
  {
   "cell_type": "code",
   "execution_count": 47,
   "metadata": {},
   "outputs": [
    {
     "data": {
      "text/plain": [
       "0"
      ]
     },
     "execution_count": 47,
     "metadata": {},
     "output_type": "execute_result"
    }
   ],
   "source": [
    "15 % 3"
   ]
  },
  {
   "cell_type": "code",
   "execution_count": null,
   "metadata": {},
   "outputs": [],
   "source": []
  }
 ],
 "metadata": {
  "kernelspec": {
   "display_name": "Python [conda env:python3]",
   "language": "python",
   "name": "conda-env-python3-py"
  },
  "language_info": {
   "codemirror_mode": {
    "name": "ipython",
    "version": 3
   },
   "file_extension": ".py",
   "mimetype": "text/x-python",
   "name": "python",
   "nbconvert_exporter": "python",
   "pygments_lexer": "ipython3",
   "version": "3.5.4"
  }
 },
 "nbformat": 4,
 "nbformat_minor": 2
}

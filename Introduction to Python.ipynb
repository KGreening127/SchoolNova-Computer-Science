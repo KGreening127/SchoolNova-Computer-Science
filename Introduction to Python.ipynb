{
 "cells": [
  {
   "cell_type": "code",
   "execution_count": 1,
   "metadata": {},
   "outputs": [
    {
     "name": "stdout",
     "output_type": "stream",
     "text": [
      "Hello IT 201!\n",
      "something else\n"
     ]
    }
   ],
   "source": [
    "print(\"Hello IT 201!\")\n",
    "print(\"something else\")"
   ]
  },
  {
   "cell_type": "code",
   "execution_count": 2,
   "metadata": {},
   "outputs": [
    {
     "name": "stdout",
     "output_type": "stream",
     "text": [
      "2.2\n",
      "<class 'int'>\n",
      "<class 'float'>\n"
     ]
    }
   ],
   "source": [
    "a = 1\n",
    "b = 1.2\n",
    "print(a+b)\n",
    "print(type(a))\n",
    "print(type(b))"
   ]
  },
  {
   "cell_type": "code",
   "execution_count": 3,
   "metadata": {},
   "outputs": [],
   "source": [
    "#help(int)"
   ]
  },
  {
   "cell_type": "code",
   "execution_count": 4,
   "metadata": {},
   "outputs": [
    {
     "name": "stdout",
     "output_type": "stream",
     "text": [
      "b is greater than 1\n"
     ]
    }
   ],
   "source": [
    "# test is b>1 and then do some stuff\n",
    "if b>1:\n",
    "    print(\"b is greater than 1\")\n",
    "    a = 2\n",
    "else:\n",
    "    print(\"b is less than or equal than 1\")\n",
    "    a = 3"
   ]
  },
  {
   "cell_type": "code",
   "execution_count": 5,
   "metadata": {},
   "outputs": [
    {
     "data": {
      "text/plain": [
       "2"
      ]
     },
     "execution_count": 5,
     "metadata": {},
     "output_type": "execute_result"
    }
   ],
   "source": [
    "a"
   ]
  },
  {
   "cell_type": "code",
   "execution_count": 6,
   "metadata": {},
   "outputs": [
    {
     "name": "stdout",
     "output_type": "stream",
     "text": [
      "5050\n"
     ]
    }
   ],
   "source": [
    "sum = 0\n",
    "for item in range(100):\n",
    "    sum = sum + item + 1\n",
    "print(sum)"
   ]
  },
  {
   "cell_type": "code",
   "execution_count": 7,
   "metadata": {},
   "outputs": [
    {
     "name": "stdout",
     "output_type": "stream",
     "text": [
      "5050.0\n"
     ]
    }
   ],
   "source": [
    "print(100*101/2)"
   ]
  },
  {
   "cell_type": "code",
   "execution_count": 8,
   "metadata": {},
   "outputs": [
    {
     "name": "stdout",
     "output_type": "stream",
     "text": [
      "1\n",
      "2\n",
      "3\n",
      "4\n",
      "5\n",
      "6\n",
      "7\n",
      "8\n",
      "9\n",
      "10\n"
     ]
    }
   ],
   "source": [
    "i=0\n",
    "while i<10:\n",
    "    i = i +1\n",
    "    print(i)\n"
   ]
  },
  {
   "cell_type": "code",
   "execution_count": 9,
   "metadata": {},
   "outputs": [],
   "source": [
    "def fibonacci(n):\n",
    "    a = 0\n",
    "    b = 1\n",
    "    for i in range(n):\n",
    "        a,b = a+b,a\n",
    "        print(a)"
   ]
  },
  {
   "cell_type": "code",
   "execution_count": 10,
   "metadata": {},
   "outputs": [
    {
     "name": "stdout",
     "output_type": "stream",
     "text": [
      "1\n",
      "1\n",
      "2\n"
     ]
    }
   ],
   "source": [
    "fibonacci(3)"
   ]
  },
  {
   "cell_type": "code",
   "execution_count": 11,
   "metadata": {},
   "outputs": [],
   "source": [
    "def fib(n):\n",
    "    a = 1\n",
    "    b = 1\n",
    "    if n!=0:\n",
    "        print(1)\n",
    "    if n==0:\n",
    "        print(0)\n",
    "    for i in range(n-1):\n",
    "        a, b = a+b,a\n",
    "        print(b)"
   ]
  },
  {
   "cell_type": "code",
   "execution_count": 12,
   "metadata": {},
   "outputs": [
    {
     "name": "stdout",
     "output_type": "stream",
     "text": [
      "0\n"
     ]
    }
   ],
   "source": [
    "fib(0)"
   ]
  },
  {
   "cell_type": "code",
   "execution_count": 20,
   "metadata": {},
   "outputs": [
    {
     "name": "stdout",
     "output_type": "stream",
     "text": [
      "1 \n",
      "2 \n",
      "3 fizz\n",
      "4 \n",
      "5 buzz\n",
      "6 fizz\n",
      "7 \n",
      "8 \n",
      "9 fizz\n",
      "10 buzz\n",
      "11 \n",
      "12 fizz\n",
      "13 \n",
      "14 \n",
      "15 fizzbuzz\n",
      "16 \n",
      "17 \n",
      "18 fizz\n",
      "19 \n",
      "20 buzz\n",
      "21 fizz\n",
      "22 \n",
      "23 \n",
      "24 fizz\n",
      "25 buzz\n",
      "26 \n",
      "27 fizz\n",
      "28 \n",
      "29 \n",
      "30 fizzbuzz\n",
      "31 \n",
      "32 \n",
      "33 fizz\n",
      "34 \n",
      "35 buzz\n",
      "36 fizz\n",
      "37 \n",
      "38 \n",
      "39 fizz\n",
      "40 buzz\n",
      "41 \n",
      "42 fizz\n",
      "43 \n",
      "44 \n",
      "45 fizzbuzz\n",
      "46 \n",
      "47 \n",
      "48 fizz\n",
      "49 \n",
      "50 buzz\n"
     ]
    }
   ],
   "source": [
    "for i in range(1,51):\n",
    "    print(i,end=' ')\n",
    "    if (i % 3 ==0) and (i % 5 == 0):\n",
    "        print(\"fizzbuzz\")\n",
    "    elif i % 3 == 0:\n",
    "        print(\"fizz\")\n",
    "    elif i % 5 == 0:\n",
    "        print(\"buzz\")\n",
    "    else:\n",
    "        print()"
   ]
  },
  {
   "cell_type": "code",
   "execution_count": 22,
   "metadata": {},
   "outputs": [
    {
     "name": "stdout",
     "output_type": "stream",
     "text": [
      "1 \n",
      "2 \n",
      "3 fizz\n",
      "4 \n",
      "5 buzz\n",
      "6 fizz\n",
      "7 \n",
      "8 \n",
      "9 fizz\n",
      "10 buzz\n",
      "11 \n",
      "12 fizz\n",
      "13 \n",
      "14 \n",
      "15 fizzbuzz\n",
      "16 \n",
      "17 \n",
      "18 fizz\n",
      "19 \n",
      "20 buzz\n",
      "21 fizz\n",
      "22 \n",
      "23 \n",
      "24 fizz\n",
      "25 buzz\n",
      "26 \n",
      "27 fizz\n",
      "28 \n",
      "29 \n",
      "30 fizzbuzz\n",
      "31 \n",
      "32 \n",
      "33 fizz\n",
      "34 \n",
      "35 buzz\n",
      "36 fizz\n",
      "37 \n",
      "38 \n",
      "39 fizz\n",
      "40 buzz\n",
      "41 \n",
      "42 fizz\n",
      "43 \n",
      "44 \n",
      "45 fizzbuzz\n",
      "46 \n",
      "47 \n",
      "48 fizz\n",
      "49 \n",
      "50 buzz\n"
     ]
    }
   ],
   "source": [
    "for i in range(1,51):\n",
    "    print(i,end=' ')\n",
    "    if i % 3 == 0:\n",
    "        print(\"fizz\",end=\"\")\n",
    "    if i % 5 == 0:\n",
    "        print(\"buzz\",end=\"\")\n",
    "    print()"
   ]
  },
  {
   "cell_type": "code",
   "execution_count": 14,
   "metadata": {},
   "outputs": [
    {
     "name": "stdout",
     "output_type": "stream",
     "text": [
      "a<-1\n"
     ]
    }
   ],
   "source": [
    "a = -2\n",
    "if a>1:\n",
    "    print(\"a>1\")\n",
    "elif a<-1:\n",
    "    print(\"a<-1\")\n",
    "else:\n",
    "    print(\"a = 1 or a = -1 or a=0\")"
   ]
  },
  {
   "cell_type": "code",
   "execution_count": 15,
   "metadata": {},
   "outputs": [
    {
     "data": {
      "text/plain": [
       "1"
      ]
     },
     "execution_count": 15,
     "metadata": {},
     "output_type": "execute_result"
    }
   ],
   "source": [
    "5 % 2"
   ]
  },
  {
   "cell_type": "code",
   "execution_count": 16,
   "metadata": {},
   "outputs": [
    {
     "data": {
      "text/plain": [
       "0"
      ]
     },
     "execution_count": 16,
     "metadata": {},
     "output_type": "execute_result"
    }
   ],
   "source": [
    "15 % 3"
   ]
  },
  {
   "cell_type": "code",
   "execution_count": 23,
   "metadata": {},
   "outputs": [],
   "source": [
    "l = [\"12\", 4, 4.5, \"hello\"]"
   ]
  },
  {
   "cell_type": "code",
   "execution_count": 24,
   "metadata": {},
   "outputs": [
    {
     "data": {
      "text/plain": [
       "list"
      ]
     },
     "execution_count": 24,
     "metadata": {},
     "output_type": "execute_result"
    }
   ],
   "source": [
    "type(l)"
   ]
  },
  {
   "cell_type": "code",
   "execution_count": 29,
   "metadata": {},
   "outputs": [
    {
     "data": {
      "text/plain": [
       "['12', 4]"
      ]
     },
     "execution_count": 29,
     "metadata": {},
     "output_type": "execute_result"
    }
   ],
   "source": [
    "l[:2]"
   ]
  },
  {
   "cell_type": "code",
   "execution_count": 30,
   "metadata": {},
   "outputs": [],
   "source": [
    "l.append(9)"
   ]
  },
  {
   "cell_type": "code",
   "execution_count": 31,
   "metadata": {},
   "outputs": [
    {
     "data": {
      "text/plain": [
       "['12', 4, 4.5, 'hello', 9]"
      ]
     },
     "execution_count": 31,
     "metadata": {},
     "output_type": "execute_result"
    }
   ],
   "source": [
    "l"
   ]
  },
  {
   "cell_type": "code",
   "execution_count": 32,
   "metadata": {},
   "outputs": [],
   "source": [
    "def fibonacci_list(n):\n",
    "    fib_list = []\n",
    "    a = 0\n",
    "    b = 1\n",
    "    for i in range(n):\n",
    "        a,b = a+b,a\n",
    "        fib_list.append(a)\n",
    "    return fib_list"
   ]
  },
  {
   "cell_type": "code",
   "execution_count": 34,
   "metadata": {},
   "outputs": [],
   "source": [
    "f = fibonacci_list(10)"
   ]
  },
  {
   "cell_type": "code",
   "execution_count": 35,
   "metadata": {},
   "outputs": [
    {
     "name": "stdout",
     "output_type": "stream",
     "text": [
      "1\n",
      "1\n",
      "2\n",
      "3\n",
      "5\n",
      "8\n",
      "13\n",
      "21\n",
      "34\n",
      "55\n"
     ]
    }
   ],
   "source": [
    "for fibnum in f:\n",
    "    print(fibnum)"
   ]
  },
  {
   "cell_type": "code",
   "execution_count": 37,
   "metadata": {},
   "outputs": [
    {
     "name": "stdout",
     "output_type": "stream",
     "text": [
      "2 + 2 =  4  and this is true\n"
     ]
    }
   ],
   "source": [
    "print(\"2 + 2 = \",2+2,\" and this is true\")"
   ]
  },
  {
   "cell_type": "code",
   "execution_count": 39,
   "metadata": {},
   "outputs": [
    {
     "name": "stdout",
     "output_type": "stream",
     "text": [
      "2 + 2 = 4 and this is awesome\n"
     ]
    }
   ],
   "source": [
    "print(\"2 + 2 = {} and {}\".format(2+2,\"this is awesome\"))"
   ]
  },
  {
   "cell_type": "code",
   "execution_count": null,
   "metadata": {},
   "outputs": [],
   "source": []
  }
 ],
 "metadata": {
  "kernelspec": {
   "display_name": "Python [conda env:python3]",
   "language": "python",
   "name": "conda-env-python3-py"
  },
  "language_info": {
   "codemirror_mode": {
    "name": "ipython",
    "version": 3
   },
   "file_extension": ".py",
   "mimetype": "text/x-python",
   "name": "python",
   "nbconvert_exporter": "python",
   "pygments_lexer": "ipython3",
   "version": "3.5.4"
  }
 },
 "nbformat": 4,
 "nbformat_minor": 2
}

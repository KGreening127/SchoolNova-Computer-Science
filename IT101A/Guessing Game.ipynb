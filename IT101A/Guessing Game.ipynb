{
 "cells": [
  {
   "cell_type": "code",
   "execution_count": null,
   "metadata": {},
   "outputs": [],
   "source": [
    "import random\n",
    "secret = random.randint(1, 99)     # Pick a secret number\n",
    "guess = 0\n",
    "tries = 0\n",
    "print(\"AHOY!  I'm the Dread Pirate Roberts, and I have a secret!\")\n",
    "print(\"It is a number from 1 to 99.  I'll give you 6 tries. \")\n",
    "\n",
    "# Allow up to 6 guesses\n",
    "while guess != secret and tries < 6:                \n",
    "    guess = int(input(\"What's yer guess? \"))   # Get the player's guess\n",
    "    if guess < secret:\n",
    "        print(\"Too low, ye scurvy dog!\")\n",
    "    elif guess > secret:\n",
    "        print(\"Too high, landlubber!\")\n",
    "\n",
    "    tries = tries + 1            # Use up one try               \n",
    "\n",
    "# Print message at end of game\n",
    "if guess == secret:\n",
    "    print(\"Avast! Ye got it!  Found my secret, ye did!\")\n",
    "else:\n",
    "    print(\"No more guesses!  Better luck next time, matey!\")\n",
    "    print(\"The secret number was\", secret)"
   ]
  },
  {
   "cell_type": "code",
   "execution_count": null,
   "metadata": {},
   "outputs": [],
   "source": []
  }
 ],
 "metadata": {
  "kernelspec": {
   "display_name": "Python [conda env:python3]",
   "language": "python",
   "name": "conda-env-python3-py"
  },
  "language_info": {
   "codemirror_mode": {
    "name": "ipython",
    "version": 3
   },
   "file_extension": ".py",
   "mimetype": "text/x-python",
   "name": "python",
   "nbconvert_exporter": "python",
   "pygments_lexer": "ipython3",
   "version": "3.5.4"
  }
 },
 "nbformat": 4,
 "nbformat_minor": 2
}
